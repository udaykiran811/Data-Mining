{
  "nbformat": 4,
  "nbformat_minor": 0,
  "metadata": {
    "colab": {
      "provenance": [],
      "name": "Assignment_6.ipynb",
      "include_colab_link": true
    },
    "kernelspec": {
      "name": "python3",
      "display_name": "Python 3"
    },
    "language_info": {
      "name": "python"
    }
  },
  "cells": [
    {
      "cell_type": "markdown",
      "metadata": {
        "id": "view-in-github",
        "colab_type": "text"
      },
      "source": [
        "<a href=\"https://colab.research.google.com/github/udaykiran811/Data-Mining/blob/main/Assignment_6.ipynb\" target=\"_parent\"><img src=\"https://colab.research.google.com/assets/colab-badge.svg\" alt=\"Open In Colab\"/></a>"
      ]
    },
    {
      "cell_type": "code",
      "execution_count": null,
      "metadata": {
        "colab": {
          "base_uri": "https://localhost:8080/"
        },
        "id": "AEOS18fEBhuj",
        "outputId": "5511028f-709c-47fa-8704-7fbf48cde46e"
      },
      "outputs": [
        {
          "output_type": "stream",
          "name": "stdout",
          "text": [
            "\n",
            " Data Encoding\n",
            "    Type  Type_Encoded  Type_Blue  Type_Green  Type_Red\n",
            "0    Red             2      False       False      True\n",
            "1   Blue             0       True       False     False\n",
            "2  Green             1      False        True     False\n",
            "3    Red             2      False       False      True\n",
            "4   Blue             0       True       False     False\n",
            "5  Green             1      False        True     False\n",
            "6    Red             2      False       False      True\n",
            "\n",
            " Creating Derived Columns (Years of Experience from Start Year)\n",
            "  Employee Start_Year  Years_of_Experience\n",
            "0    Alice 2015-01-01                   10\n",
            "1      Bob 2010-01-01                   15\n",
            "2  Charlie 2018-01-01                    7\n",
            "3    David 2012-01-01                   13\n",
            "4      Eve 2016-01-01                    9\n",
            "\n",
            " Grouping and Aggregating Data\n",
            "Grouped Data:\n",
            "             Salary              \n",
            "               sum          mean\n",
            "Department                      \n",
            "Finance     255000  85000.000000\n",
            "HR          157000  52333.333333\n",
            "IT          223000  74333.333333\n",
            "\n",
            "Pivot Table:\n",
            "                sum          mean\n",
            "            Salary        Salary\n",
            "Department                      \n",
            "Finance     255000  85000.000000\n",
            "HR          157000  52333.333333\n",
            "IT          223000  74333.333333\n"
          ]
        }
      ],
      "source": [
        "import pandas as pd\n",
        "from sklearn.preprocessing import LabelEncoder\n",
        "from datetime import datetime\n",
        "\n",
        "print(\"\\n Data Encoding\")\n",
        "data = {'Type': ['Red', 'Blue', 'Green', 'Red', 'Blue', 'Green', 'Red']}\n",
        "df = pd.DataFrame(data)\n",
        "\n",
        "label_encoder = LabelEncoder()\n",
        "df['Type_Encoded'] = label_encoder.fit_transform(df['Type'])\n",
        "\n",
        "one_hot_encoded = pd.get_dummies(df['Type'], prefix='Type')\n",
        "df = pd.concat([df, one_hot_encoded], axis=1)\n",
        "print(df)\n",
        "\n",
        "print(\"\\n Creating Derived Columns (Years of Experience from Start Year)\")\n",
        "data = {\n",
        "    'Employee': ['Alice', 'Bob', 'Charlie', 'David', 'Eve'],\n",
        "    'Start_Year': ['2015', '2010', '2018', '2012', '2016']\n",
        "}\n",
        "df = pd.DataFrame(data)\n",
        "\n",
        "df['Start_Year'] = pd.to_datetime(df['Start_Year'], format='%Y')\n",
        "current_year = datetime.now().year\n",
        "df['Years_of_Experience'] = current_year - df['Start_Year'].dt.year\n",
        "print(df)\n",
        "\n",
        "print(\"\\n Grouping and Aggregating Data\")\n",
        "data = {\n",
        "    'Department': ['HR', 'HR', 'IT', 'IT', 'Finance', 'Finance', 'HR', 'IT', 'Finance'],\n",
        "    'Salary': [50000, 55000, 70000, 75000, 80000, 85000, 52000, 78000, 90000]\n",
        "}\n",
        "df = pd.DataFrame(data)\n",
        "\n",
        "grouped = df.groupby('Department').agg({'Salary': ['sum', 'mean']})\n",
        "print(\"Grouped Data:\\n\", grouped)\n",
        "\n",
        "pivot = df.pivot_table(index='Department', values='Salary', aggfunc=['sum', 'mean'])\n",
        "print(\"\\nPivot Table:\\n\", pivot)\n",
        "\n"
      ]
    }
  ]
}